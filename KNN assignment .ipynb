{
 "cells": [
  {
   "cell_type": "code",
   "execution_count": 1,
   "id": "f9ce3c14",
   "metadata": {},
   "outputs": [],
   "source": [
    "import pandas as pd\n",
    "import numpy as np\n",
    "from sklearn.model_selection import train_test_split as tts\n",
    "from sklearn.linear_model import LinearRegression\n",
    "from sklearn.neighbors import KNeighborsRegressor\n",
    "from sklearn.neighbors import KNeighborsClassifier\n",
    "from sklearn import datasets\n",
    "from sklearn.metrics import confusion_matrix\n",
    "import matplotlib.pyplot as plt\n",
    "from sklearn import preprocessing\n",
    "#from sklearn.metrics import confusion_matrix, plot_confusion_matrix\n",
    "from sklearn.metrics import confusion_matrix"
   ]
  },
  {
   "cell_type": "code",
   "execution_count": 2,
   "id": "bb385dd0",
   "metadata": {},
   "outputs": [
    {
     "data": {
      "text/plain": [
       "Male      4998\n",
       "Female    3555\n",
       "Name: Gender, dtype: int64"
      ]
     },
     "execution_count": 2,
     "metadata": {},
     "output_type": "execute_result"
    }
   ],
   "source": [
    "df= pd.read_csv(\"WH.csv\")\n",
    "df1 = df.copy();\n",
    "df2=df.copy();\n",
    "df1['Gender'].value_counts()"
   ]
  },
  {
   "cell_type": "code",
   "execution_count": 3,
   "id": "fe37681d",
   "metadata": {},
   "outputs": [],
   "source": [
    "le = preprocessing.LabelEncoder()\n",
    "df1['Gender']= le.fit_transform(df1['Gender'])\n",
    "#x=df1.iloc[:,2]\n",
    "#y=df1.iloc[:,-2]\n",
    "x= df1[['Gender','Height']]\n",
    "y= df1['Weight']\n",
    "xtrain, xtest, ytrain, ytest = tts(x, y, test_size=0.30, random_state=1)\n",
    "#xtrain.shape\n",
    "#print(df1.iloc[1:10,-2])\n",
    "#df1.tail(5)\n",
    "#df1.head(10)\n",
    "#xtest.info()\n"
   ]
  },
  {
   "cell_type": "code",
   "execution_count": 4,
   "id": "63c90a73",
   "metadata": {},
   "outputs": [
    {
     "name": "stdout",
     "output_type": "stream",
     "text": [
      "[215.77850769]\n",
      "0.8993392940519523\n"
     ]
    },
    {
     "name": "stderr",
     "output_type": "stream",
     "text": [
      "C:\\ProgramData\\anaconda3\\lib\\site-packages\\sklearn\\base.py:420: UserWarning: X does not have valid feature names, but LinearRegression was fitted with feature names\n",
      "  warnings.warn(\n"
     ]
    }
   ],
   "source": [
    "model=LinearRegression() \n",
    "reg = model.fit(x, y)\n",
    "ypredic= model.predict(xtest)\n",
    "print(model.predict([[1,73.84701702]]))\n",
    "print(model.score(xtest,ytest))"
   ]
  },
  {
   "cell_type": "code",
   "execution_count": 5,
   "id": "0e6ca003",
   "metadata": {},
   "outputs": [
    {
     "data": {
      "text/plain": [
       "0.8778424687726164"
      ]
     },
     "execution_count": 5,
     "metadata": {},
     "output_type": "execute_result"
    }
   ],
   "source": [
    "# KNN regression \n",
    "kn1 = KNeighborsRegressor(n_neighbors=5)\n",
    "kn1.fit(xtrain,ytrain)\n",
    "kn1.score(xtest,ytest)\n"
   ]
  },
  {
   "cell_type": "code",
   "execution_count": 6,
   "id": "ff5e8dd6",
   "metadata": {},
   "outputs": [
    {
     "data": {
      "text/plain": [
       "0.9033515198752923"
      ]
     },
     "execution_count": 6,
     "metadata": {},
     "output_type": "execute_result"
    }
   ],
   "source": [
    "x= df2[['Height','Weight']]\n",
    "y= df2['Gender']\n",
    "xtrain2, xtest2, ytrain2, ytest2 = tts(x, y, test_size=0.30, random_state=1)\n",
    "knn2 = KNeighborsClassifier(n_neighbors=5)\n",
    "knn2.fit(xtrain2,ytrain2)\n",
    "knn2.score(xtest2,ytest2)\n",
    "\n",
    "\n",
    "    "
   ]
  },
  {
   "cell_type": "code",
   "execution_count": 10,
   "id": "e6c0b71d",
   "metadata": {},
   "outputs": [
    {
     "name": "stdout",
     "output_type": "stream",
     "text": [
      "['Female']\n"
     ]
    },
    {
     "name": "stderr",
     "output_type": "stream",
     "text": [
      "C:\\ProgramData\\anaconda3\\lib\\site-packages\\sklearn\\base.py:420: UserWarning: X does not have valid feature names, but KNeighborsClassifier was fitted with feature names\n",
      "  warnings.warn(\n"
     ]
    }
   ],
   "source": [
    "print(knn2.predict([[68.78190405,162.3104725]]))"
   ]
  }
 ],
 "metadata": {
  "kernelspec": {
   "display_name": "Python 3 (ipykernel)",
   "language": "python",
   "name": "python3"
  },
  "language_info": {
   "codemirror_mode": {
    "name": "ipython",
    "version": 3
   },
   "file_extension": ".py",
   "mimetype": "text/x-python",
   "name": "python",
   "nbconvert_exporter": "python",
   "pygments_lexer": "ipython3",
   "version": "3.10.9"
  }
 },
 "nbformat": 4,
 "nbformat_minor": 5
}
