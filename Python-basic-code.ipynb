{
 "cells": [
  {
   "cell_type": "code",
   "execution_count": 6,
   "id": "361999b8",
   "metadata": {},
   "outputs": [
    {
     "name": "stdout",
     "output_type": "stream",
     "text": [
      "length : 2\n",
      "width : 3\n",
      "not done\n"
     ]
    }
   ],
   "source": [
    "#Take values of the length & breadth of a rectangle from user input and check if it is square or not.\n",
    "length = int (input(\"length : \"))\n",
    "width = int (input(\"width : \"))\n",
    "if(pow(width,2)==length*width):\n",
    "    print(\"done\");\n",
    "else :\n",
    "    print(\"not done\")"
   ]
  },
  {
   "cell_type": "code",
   "execution_count": 13,
   "id": "70763536",
   "metadata": {},
   "outputs": [
    {
     "name": "stdout",
     "output_type": "stream",
     "text": [
      "number1 :3\n",
      "number2 :1\n",
      "number3 :5\n",
      "5\n"
     ]
    }
   ],
   "source": [
    "#Take three integer values from the user and print the greatest among them.\n",
    "num1 = int(input(\"number1 :\"))\n",
    "num2 = int(input(\"number2 :\"))\n",
    "num3 = int(input(\"number3 :\"))\n",
    "if(num1>num2 & num1>num3):\n",
    "    print(num1);\n",
    "elif(num2>num1 &num2>num3):\n",
    "    print(num2);\n",
    "else :\n",
    "    print(num3)\n",
    "            \n",
    "        \n",
    "    "
   ]
  },
  {
   "cell_type": "code",
   "execution_count": 7,
   "id": "9cf9e955",
   "metadata": {},
   "outputs": [
    {
     "name": "stdout",
     "output_type": "stream",
     "text": [
      "Attendance : 80\n",
      "Total days : 100\n",
      "successfull\n"
     ]
    }
   ],
   "source": [
    "#A student will not be allowed to sit in an exam if his/her attendance is less than 75%.\n",
    "attendance = int(input(\"Attendance : \")) \n",
    "totalClass=int(input(\"Total days : \"))\n",
    "value= attendance/100*totalClass\n",
    "\n",
    "if(value>75):\n",
    "    print((\"successfull\"))\n",
    "else :\n",
    "    print(\"unsuccessfull\")"
   ]
  },
  {
   "cell_type": "code",
   "execution_count": 10,
   "id": "281bd5e9",
   "metadata": {},
   "outputs": [
    {
     "name": "stdout",
     "output_type": "stream",
     "text": [
      "Mark :50\n",
      "E\n"
     ]
    }
   ],
   "source": [
    "#A school has the following rules for the grading system:\n",
    "mark=int(input(\"Mark :\"))\n",
    "if(mark < 25):\n",
    "    print(\"fail\")\n",
    "elif(mark >25 & mark < 44):\n",
    "    print(\"E\")\n",
    "elif(mark >45 & mark < 49):\n",
    "    print(\"D\")\n",
    "elif(mark >50 & mark < 59):\n",
    "    print(\"C\")\n",
    "elif(mark >60 & mark < 79):\n",
    "    print(\"B\")\n",
    "elif(mark >80 & mark < 89):\n",
    "    print(\"A\")\n",
    "elif( mark <= 90):\n",
    "    print(\"A+\")"
   ]
  },
  {
   "cell_type": "code",
   "execution_count": 8,
   "id": "58aace52",
   "metadata": {},
   "outputs": [
    {
     "name": "stdout",
     "output_type": "stream",
     "text": [
      "Row = 5\n",
      "column =5\n",
      "####\n",
      "####\n",
      "###\n",
      "##\n",
      "#\n"
     ]
    }
   ],
   "source": [
    "#Print the following pattern using for and while loop.\n",
    "value = int(input(\"Row = \"))\n",
    "column =int(input(\"column =\"))\n",
    "extra = value\n",
    "for i in range(0,value):\n",
    "    if(i==0):\n",
    "        for i in range(0,extra-1):\n",
    "            print(\"#\", end=\"\")\n",
    "        print();\n",
    "    else :\n",
    "        for j in range(i,column):\n",
    "            print(\"#\", end=\"\");\n",
    "        print();\n",
    "    \n",
    "        "
   ]
  },
  {
   "cell_type": "code",
   "execution_count": 9,
   "id": "a5308af8",
   "metadata": {
    "scrolled": true
   },
   "outputs": [
    {
     "name": "stdout",
     "output_type": "stream",
     "text": [
      "-20\n",
      "-19\n",
      "-18\n",
      "-17\n",
      "-16\n",
      "-15\n",
      "-14\n",
      "-13\n",
      "-12\n",
      "-11\n"
     ]
    }
   ],
   "source": [
    "#Display numbers from -100 to -10 using for loop.\n",
    "for i in range(-20,-10):\n",
    "    print(i)\n"
   ]
  },
  {
   "cell_type": "code",
   "execution_count": 13,
   "id": "79b2f2db",
   "metadata": {},
   "outputs": [
    {
     "name": "stdout",
     "output_type": "stream",
     "text": [
      "Value ? 5\n",
      "120\n"
     ]
    }
   ],
   "source": [
    "#factorial\n",
    "value = int(input(\"Value ? \"))\n",
    "fact=1\n",
    "for i in range (1,value+1):\n",
    "    fact= i*fact\n",
    "print(fact)"
   ]
  },
  {
   "cell_type": "code",
   "execution_count": 1,
   "id": "739bc96b",
   "metadata": {},
   "outputs": [
    {
     "name": "stdout",
     "output_type": "stream",
     "text": [
      "0\n",
      "1\n",
      "1\n",
      "2\n",
      "3\n",
      "5\n",
      "8\n",
      "13\n",
      "21\n",
      "34\n"
     ]
    }
   ],
   "source": [
    "#fibonnaci for loop\n",
    "\n",
    "def fibonaci(n):\n",
    "    a = 0\n",
    "    b = 1\n",
    "    if n == 1:\n",
    "        print(a)\n",
    "    else:\n",
    "        print(a)\n",
    "        print(b)\n",
    "        for i in range(2,n):\n",
    "            c = a + b\n",
    "            a = b\n",
    "            b = c\n",
    "            print(c)\n",
    "fibonaci(10)\n"
   ]
  },
  {
   "cell_type": "code",
   "execution_count": 7,
   "id": "d163ec71",
   "metadata": {},
   "outputs": [
    {
     "name": "stdout",
     "output_type": "stream",
     "text": [
      "[1, 6, 5, 3, [5, 5], True]\n"
     ]
    }
   ],
   "source": [
    "#Remove 2 and add 3 to the list and replace True with False.\n",
    "li=[1,6,5,3,[2,5],False]\n",
    "li[4].remove(2)\n",
    "li[4].append(5)\n",
    "li[5]=True\n",
    "print(li)\n"
   ]
  },
  {
   "cell_type": "code",
   "execution_count": 14,
   "id": "d9224c5a",
   "metadata": {},
   "outputs": [
    {
     "name": "stdout",
     "output_type": "stream",
     "text": [
      "{True}\n"
     ]
    }
   ],
   "source": [
    "\n",
    "#Find the intersection (common) of two sets.\n",
    "S1 = {1,4,6,8}\n",
    "S2 = {True, 1,2,10}\n",
    "value = S1 & S2\n",
    "print(value)"
   ]
  },
  {
   "cell_type": "code",
   "execution_count": 18,
   "id": "42c21ef9",
   "metadata": {},
   "outputs": [
    {
     "name": "stdout",
     "output_type": "stream",
     "text": [
      "Number of element ? 3\n",
      "2\n",
      "5\n",
      "45\n",
      "[2, 5, 45]\n"
     ]
    }
   ],
   "source": [
    "\n",
    "\n"
   ]
  },
  {
   "cell_type": "code",
   "execution_count": 5,
   "id": "fc76f02d",
   "metadata": {},
   "outputs": [
    {
     "name": "stdout",
     "output_type": "stream",
     "text": [
      "Number of element ? 5\n",
      "85\n",
      "5\n",
      "5\n",
      "5\n",
      "3\n",
      "[85, 5, 3]\n",
      "85\n"
     ]
    }
   ],
   "source": [
    "#duplicate remove\n",
    "n= int(input(\"Number of element ? \"))\n",
    "li=[];\n",
    "for i in range (0,n):\n",
    "    x=int(input())\n",
    "    li.append(x);\n",
    "value= list(dict.fromkeys(li))\n",
    "print(value)\n",
    "print(max(value))"
   ]
  },
  {
   "cell_type": "code",
   "execution_count": null,
   "id": "ac781142",
   "metadata": {},
   "outputs": [],
   "source": []
  },
  {
   "cell_type": "code",
   "execution_count": 7,
   "id": "8f367776",
   "metadata": {},
   "outputs": [
    {
     "name": "stdout",
     "output_type": "stream",
     "text": [
      "{'name': 'Shakil', 'age': 27, 'city': 'Berlin', 'region': 'Germany'}\n"
     ]
    }
   ],
   "source": [
    "#key changing\n",
    "person = { \"name\": \"Shakil\", \"age\":27, \"country\": \"Germany\",\"city\":\"Berlin\" }\n",
    "person[\"region\"]= person[\"country\"]\n",
    "del person[\"country\"]\n",
    "print(person)"
   ]
  },
  {
   "cell_type": "code",
   "execution_count": 9,
   "id": "26a8ebcf",
   "metadata": {},
   "outputs": [
    {
     "name": "stdout",
     "output_type": "stream",
     "text": [
      "{'name': 'Shakil', 'age': 28, 'city': 'Berlin', 'region': 'Germany'}\n"
     ]
    }
   ],
   "source": [
    "person[\"age\"]= 28\n",
    "print(person)"
   ]
  },
  {
   "cell_type": "code",
   "execution_count": 1,
   "id": "a93622cf",
   "metadata": {},
   "outputs": [
    {
     "name": "stdout",
     "output_type": "stream",
     "text": [
      "Defaulting to user installation because normal site-packages is not writeable\n",
      "Requirement already satisfied: pandas in c:\\programdata\\anaconda3\\lib\\site-packages (1.5.3)\n",
      "Requirement already satisfied: numpy>=1.21.0 in c:\\programdata\\anaconda3\\lib\\site-packages (from pandas) (1.23.5)\n",
      "Requirement already satisfied: pytz>=2020.1 in c:\\programdata\\anaconda3\\lib\\site-packages (from pandas) (2022.7)\n",
      "Requirement already satisfied: python-dateutil>=2.8.1 in c:\\programdata\\anaconda3\\lib\\site-packages (from pandas) (2.8.2)\n",
      "Requirement already satisfied: six>=1.5 in c:\\programdata\\anaconda3\\lib\\site-packages (from python-dateutil>=2.8.1->pandas) (1.16.0)\n"
     ]
    }
   ],
   "source": [
    "!pip install pandas\n"
   ]
  },
  {
   "cell_type": "code",
   "execution_count": 1,
   "id": "8d3cf08f",
   "metadata": {},
   "outputs": [],
   "source": [
    "import pandas as pd\n"
   ]
  },
  {
   "cell_type": "code",
   "execution_count": 7,
   "id": "846e7749",
   "metadata": {},
   "outputs": [],
   "source": [
    "#column \n",
    "person = { \"Number\":[10,10,10,10] }\n",
    "DF= pd.DataFrame(person)\n"
   ]
  },
  {
   "cell_type": "code",
   "execution_count": 8,
   "id": "470b812b",
   "metadata": {},
   "outputs": [
    {
     "data": {
      "text/html": [
       "<div>\n",
       "<style scoped>\n",
       "    .dataframe tbody tr th:only-of-type {\n",
       "        vertical-align: middle;\n",
       "    }\n",
       "\n",
       "    .dataframe tbody tr th {\n",
       "        vertical-align: top;\n",
       "    }\n",
       "\n",
       "    .dataframe thead th {\n",
       "        text-align: right;\n",
       "    }\n",
       "</style>\n",
       "<table border=\"1\" class=\"dataframe\">\n",
       "  <thead>\n",
       "    <tr style=\"text-align: right;\">\n",
       "      <th></th>\n",
       "      <th>Number</th>\n",
       "    </tr>\n",
       "  </thead>\n",
       "  <tbody>\n",
       "    <tr>\n",
       "      <th>0</th>\n",
       "      <td>10</td>\n",
       "    </tr>\n",
       "    <tr>\n",
       "      <th>1</th>\n",
       "      <td>10</td>\n",
       "    </tr>\n",
       "    <tr>\n",
       "      <th>2</th>\n",
       "      <td>10</td>\n",
       "    </tr>\n",
       "    <tr>\n",
       "      <th>3</th>\n",
       "      <td>10</td>\n",
       "    </tr>\n",
       "  </tbody>\n",
       "</table>\n",
       "</div>"
      ],
      "text/plain": [
       "   Number\n",
       "0      10\n",
       "1      10\n",
       "2      10\n",
       "3      10"
      ]
     },
     "execution_count": 8,
     "metadata": {},
     "output_type": "execute_result"
    }
   ],
   "source": [
    "DF"
   ]
  },
  {
   "cell_type": "code",
   "execution_count": 5,
   "id": "6cd0316a",
   "metadata": {},
   "outputs": [
    {
     "name": "stdout",
     "output_type": "stream",
     "text": [
      "221\n"
     ]
    }
   ],
   "source": [
    "#reverse number\n",
    "val=122\n",
    "val1=0\n",
    "while (val>0 ):\n",
    "    rem= val%10\n",
    "    val1=(val1*10)+rem\n",
    "    val=val//10\n",
    "    \n",
    "print(val1)"
   ]
  },
  {
   "cell_type": "code",
   "execution_count": 2,
   "id": "4184c18b",
   "metadata": {},
   "outputs": [
    {
     "name": "stdout",
     "output_type": "stream",
     "text": [
      "0\n",
      "1\n",
      "1\n",
      "2\n",
      "3\n",
      "5\n",
      "8\n",
      "13\n",
      "21\n",
      "34\n",
      "55\n"
     ]
    }
   ],
   "source": [
    "#fibonnaci using  while \n",
    "def fibonaci(n):\n",
    "    a = 0\n",
    "    b = 1\n",
    "    if n == 1:\n",
    "        print(a)\n",
    "    else:\n",
    "        print(a)\n",
    "        print(b)\n",
    "        #for i in range(2,n):\n",
    "        while(n>=2):\n",
    "        \n",
    "            c = a + b\n",
    "            a = b\n",
    "            b = c\n",
    "            n=n-1\n",
    "            print(c)\n",
    "fibonaci(10)\n"
   ]
  },
  {
   "cell_type": "code",
   "execution_count": 6,
   "id": "38b6f307",
   "metadata": {},
   "outputs": [
    {
     "name": "stdout",
     "output_type": "stream",
     "text": [
      "1234567\n",
      "123456\n",
      "12345\n",
      "1234\n"
     ]
    }
   ],
   "source": [
    "column=7\n",
    "row=4\n",
    "for i in range (1,row+1):\n",
    "    for j in range(1,column+1):\n",
    "        print(j,end=\"\")\n",
    "    print();\n",
    "    column=column-1;\n",
    "    "
   ]
  },
  {
   "cell_type": "code",
   "execution_count": null,
   "id": "d08b8a39",
   "metadata": {},
   "outputs": [],
   "source": [
    "#primne number\n",
    "num= int(input(\"Number : \"))\n",
    "if num % 2 !=2:\n",
    "    print (\"this is  prime number\")\n",
    "else: \n",
    "    print(\"This is not prime number\")"
   ]
  },
  {
   "cell_type": "code",
   "execution_count": null,
   "id": "f1f1445a",
   "metadata": {},
   "outputs": [],
   "source": []
  },
  {
   "cell_type": "code",
   "execution_count": null,
   "id": "6291105d",
   "metadata": {},
   "outputs": [],
   "source": []
  }
 ],
 "metadata": {
  "kernelspec": {
   "display_name": "Python 3 (ipykernel)",
   "language": "python",
   "name": "python3"
  },
  "language_info": {
   "codemirror_mode": {
    "name": "ipython",
    "version": 3
   },
   "file_extension": ".py",
   "mimetype": "text/x-python",
   "name": "python",
   "nbconvert_exporter": "python",
   "pygments_lexer": "ipython3",
   "version": "3.10.9"
  }
 },
 "nbformat": 4,
 "nbformat_minor": 5
}
